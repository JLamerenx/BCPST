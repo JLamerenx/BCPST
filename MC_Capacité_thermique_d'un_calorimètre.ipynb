{
  "nbformat": 4,
  "nbformat_minor": 0,
  "metadata": {
    "colab": {
      "name": "MC Capacité thermique d'un calorimètre.ipynb",
      "provenance": [],
      "collapsed_sections": []
    },
    "kernelspec": {
      "name": "python3",
      "display_name": "Python 3"
    }
  },
  "cells": [
    {
      "cell_type": "markdown",
      "metadata": {
        "id": "SDKA023aLqQf"
      },
      "source": [
        "# **Détermination de la capacité thermique d'un calorimètre par la méthode des mélanges et évaluation de l'incertitude-type associée**"
      ]
    },
    {
      "cell_type": "markdown",
      "metadata": {
        "id": "-f3p9oPEL42c"
      },
      "source": [
        "# **Principe de la mesure**\n",
        "\n",
        "---\n",
        "\n",
        "\n",
        "\n",
        "L'expérience est réalisée en introduisant dans un calorimètre, isolé thermiquement du milieu extérieur, une masse d'eau $m_1$. \n",
        "Au bout de quelques minutes, la température de l'ensemble {calorimètre + eau} se stabilise à une valeur $T_1$. \n",
        "\n",
        "L'introduction dans le calorimètre d'une seconde masse d'eau $m_2$, de température $T_2$ différente de $T_1$, a pour but d'entraîner une variation de température du système {calorimètre + eau1 + eau2}. \n",
        "\n",
        "Après agitation forte, celle-ci se stabilise à une nouvelle valeur, notée $T_f$, avant d'évoluer lentement vers la température de la pièce en raison du caractère non parfaitement diathermane des parois du calorimètre sur une longue durée.\n",
        "\n",
        "La relation permettant de calculer la capacité thermique du calorimètre est :\n",
        "\n",
        "\\begin{equation}\n",
        "   C_{cal}=c_{eau}\\frac{m_2(T_2-T_f)+m_1(T_1-T_f)}{T_f-T_1}\n",
        "\\end{equation}\n",
        "\n",
        "Les grandeurs à mesurer pour calculer $C_{cal}* sont : $m_1$, $m_2$, $T_1$, $T_2$ et $T_f$.\n",
        "\n",
        "# **Objectif**\n",
        "\n",
        "---\n",
        "\n",
        "**Le résultat d'une mesure ne peut pas être une valeur unique, mais il correspond à l'ensemble des valeurs raisonnablement attribuables à la grandeur mesurée.** \n",
        "\n",
        "La dispersion de cet ensemble de valeurs est évaluée grâce à l'incertitude-type.\n",
        "\n",
        "Lorsque la mesure est répétée plusieurs fois, l'expérimentateur obtient plusieurs valeurs de $C_{cal}$.  L'incertitude-type est l'écart-type de cet ensemble de valeurs. On parle d'évaluation de type A.\n",
        "\n",
        "Ici, l'expérience n'est pas répétée plusieurs fois. Il faut donc mettre en oeuvre une autre méthode pour évaluer l'incertitude-type (évaluation de type B). Dans ce contexte, une méthode numérique, appelée méthode de Monte-Carlo, est proposée : elle consiste à simuler numériquement la répétition de l'expérience. L'écart-type de l'ensemble des valeurs obtenues lors des ces répétitions *in silico* fournit l'incertitude-type recherchée.\n",
        "\n",
        "\n",
        "\n",
        "\n"
      ]
    },
    {
      "cell_type": "markdown",
      "metadata": {
        "id": "Q6iCRYTdf9s-"
      },
      "source": [
        "\n",
        "# **Le code expliqué**\n",
        "\n",
        "---\n",
        "\n",
        "\n",
        "##Importation des bibliothèques\n",
        "La bibliothèque `numpy` est ici utilisée pour réaliser des calculs et simuler un processus aléatoire (`random`). \n",
        "La bibliothèque `matplolib` permet de tracer des graphiques, ici un histogramme.\n",
        "\n"
      ]
    },
    {
      "cell_type": "code",
      "metadata": {
        "id": "BLo-LPBtf9BI"
      },
      "source": [
        "#%%# Importation des bibliothèques\n",
        "\n",
        "import numpy as np\n",
        "import matplotlib.pyplot as plt"
      ],
      "execution_count": 2,
      "outputs": []
    },
    {
      "cell_type": "markdown",
      "metadata": {
        "id": "bMlV0TkgTkOK"
      },
      "source": [
        "## Sources d'incertitudes\n",
        "\n",
        "Les **masses** ont été mesurées à l'aide d'une balance précise à 1 g près. Ainsi, si la valeur lue est de 150 g, alors on peut raisonnablement penser que la masse \"réelle\" est comprise entre 149,5 et 150,5 g. La demi-étendue de cet intervalle est de 0.5 g.\n",
        "\n",
        "Les **températures** sont mesurées grâce à un thermomètre précis à 0,2 °C près.  Si la valeur lue est de 20,2°C, alors on peut raisonnablement penser que la température \"réelle\" est comprise entre 20,1 et 20,3 °C. La demi-étendue de cet intervalle est de 0,1 °C.\n",
        "\n",
        "En revanche, l'évaluation de la **température \"finale\" $T_f$** procède d'une autre stratégie. Celle-ci est évaluée à partir du graphique de la température dans le calorimètre en fonction du temps. Ainsi, l'incertitude sur $T_f$ doit prendre en compte la \"précision\" du thermomètre, la \"qualité\" de la courbe tracée et la méthode de détermination de la température choisie par l'expérimentateur. Pour ma part, je retiens une incertitude de l'ordre de 1°C.\n",
        "\n",
        "Enfin, les masses $m_1$ et $m_2$ sont déterminées d'abord par pesée d'un bécher rempli, puis par pesée de ce même bécher vidé. L'obtention des masses $m_1$ et $m_2$ s'accompagne donc de deux sources d'incertitudes.\n",
        "\n",
        "\\begin{equation}\n",
        "   m=m_f-m_i\n",
        "\\end{equation}\n",
        "\n",
        "Les grandeurs réellement mesurées sont donc : $m_{1i}$, $m_{1f}$, $m_{2i}$, $m_{2f}$, $T_1$, $T_2$ et $T_f$.\n",
        "\n"
      ]
    },
    {
      "cell_type": "code",
      "metadata": {
        "id": "B4oQGCzlRtgx"
      },
      "source": [
        "#%%# Paramètres ajustables du script\n",
        "\n",
        "#Valeurs expérimentales mesurées (températures en °C et masses en g)\n",
        "t1 = 20.2   # Température eau1 froide + calorimètre avant introduction eau2\n",
        "t2 = 47.3   # Température eau2 chaude avant introduction dans le calorimètre\n",
        "tf = 31.2   # Teméprature finale du mélange dans l'hypothèse adiabatique\n",
        "m1i = 153   # Masse du bécher1 + eau1 froide \n",
        "m1f = 99    # Masse du bécher1 vidé\n",
        "m2i = 176   # Masse du bécher2 + eau2 chaude \n",
        "m2f = 119   # Masse du bécher2 vidé\n",
        "\n",
        "#Saisie de données relatives à la précision des mesures\n",
        "at = .1     # Demi-étendue sur l'intervalle des températures T1 et T2\n",
        "atf = 1     # Demi-étendue sur l'intervalle de la température Tf\n",
        "am = .5     # Demi-étendue sur l'intervalle des masses\n"
      ],
      "execution_count": 39,
      "outputs": []
    },
    {
      "cell_type": "markdown",
      "metadata": {
        "id": "MDDqbKBRQJg8"
      },
      "source": [
        "## Principe de la méthode Monte-Carlo\n",
        "\n",
        "La méthode Monte-Carlo consiste à simuler numériquement, un très grand nombre de fois, l'expérience qui a été réalisée durant le TP. \n",
        "Pour chaque expérience simulée, des valeurs des grandeurs $m_{1i}$, $m_{1f}$, $m_{2i}$, $m_{2f}$, $T_1$, $T_2$ et $T_f$ sont tirées au sort dans un intervalle centré sur la valeur obtenue lors de la mesure.\n",
        "\n",
        "Pour le thermomètre ou la balance, si l'on suppose qu'aucune des valeurs dans l'intervalle n'est plus probable qu'une autre, alors, on utilise la commande `np.random.uniform` pour le tirage au sort :\n",
        "```\n",
        "np.random.uniform(x-a,x+a)\n",
        "#x représente la valeur expérimentale obtenue\n",
        "#a représente la demi-étendue\n",
        "```\n",
        "\n",
        "Si la valeur centrale de l'intervalle est plus probable que les valeurs aux extrémités de l'intervalle, on peut utiliser la commande `np.random.triangular` pour le tirage au sort  :\n",
        "```\n",
        "np.random.triangular(x-a,x,x+a)\n",
        "#x représente la valeur expérimentale obtenue\n",
        "#a représente la demi-étendue\n",
        "```\n",
        "\n",
        "Chaque expérience simulée fournit ainsi un jeu de 7 valeurs expérimentales tirées au sort, à partir desquelles il est possible de calculer une valeur de la capacité thermique du calorimètre. Cette valeur calculée est stockée dans une liste.\n"
      ]
    },
    {
      "cell_type": "code",
      "metadata": {
        "id": "z6r9ZXGHdNaa"
      },
      "source": [
        "#%%# Simulation de N expériences \n",
        "\n",
        "#Saisie du nombre d'expériences numériques à simuler\n",
        "N=30000\n",
        "\n",
        "# Tirage de valeurs des grandeurs mesurées et calcul de Ccal \n",
        "\n",
        "Ccal = [] \n",
        "\n",
        "for k in range(N) :\n",
        "    T1=np.random.uniform(t1-at,t1+at)\n",
        "    T2=np.random.uniform(t2-at,t2+at)\n",
        "    Tf=np.random.triangular(tf-atf,tf,tf+atf)\n",
        "    M1i=np.random.uniform(m1i-am,m1i+am)\n",
        "    M1f=np.random.uniform(m1f-am,m1f+am)\n",
        "    M2i=np.random.uniform(m2i-am,m2i+am)\n",
        "    M2f=np.random.uniform(m2f-am,m2f+am)\n",
        "    Ccal.append(4.18*((M2i-M2f)*(T2-Tf)/(Tf-T1)+(M1f-M1i)))"
      ],
      "execution_count": 37,
      "outputs": []
    },
    {
      "cell_type": "markdown",
      "metadata": {
        "id": "jneAFm8UdiFK"
      },
      "source": [
        "## Affichage des résultats\n",
        "A l'issue des N simulations, la liste `Ccal` contient donc N valeurs de capacités thermiques. Cette liste est utilisée pour déterminer : \n",
        "*   La valeur moyenne des valeurs simulées, meilleur estimateur de la capacité thermique $C_{cal}$,\n",
        "*   L'écart-type de la distribution, qui constitue l'incertitude-type $u_{C_{cal}}$ sur la capacité thermique.\n",
        "\n",
        "\n",
        "\n"
      ]
    },
    {
      "cell_type": "code",
      "metadata": {
        "id": "QjapCxjDebCN",
        "outputId": "b6176374-fc0d-4625-b473-091a22265007",
        "colab": {
          "base_uri": "https://localhost:8080/",
          "height": 0
        }
      },
      "source": [
        "#%%# Affichage des résultats\n",
        "    \n",
        "# Calcul de la valeur moyenne de Ccal et de l'écart-type\n",
        "Ccalm = sum(Ccal)/N         #Moyenne arithmétique des valeurs calculées de Ccal\n",
        "uCcal = np.std(Ccal,ddof=1) #Ecart-type des valeurs calculées de Ccal\n",
        "\n",
        "#Affichage des résultats\n",
        "print(f'Meilleur estimateur : {Ccalm} J/K')\n",
        "print(f'Incertitude-type : {uCcal} J/K')"
      ],
      "execution_count": 45,
      "outputs": [
        {
          "output_type": "stream",
          "text": [
            "Meilleur estimateur : 123.84737914106668 J/K\n",
            "Incertitude-type : 22.177019672702656 J/K\n"
          ],
          "name": "stdout"
        }
      ]
    },
    {
      "cell_type": "markdown",
      "metadata": {
        "id": "kZvXqBy6SMT9"
      },
      "source": [
        "Le résultat de la mesure pourra être donné ainsi :\n",
        "\\begin{equation}\n",
        "   C_{cal}=124 J.K^{-1} \n",
        "\\end{equation}\n",
        "\\begin{equation}\n",
        "   u_{C_{cal}}=22 J.K^{-1}\n",
        "\\end{equation}\n"
      ]
    },
    {
      "cell_type": "markdown",
      "metadata": {
        "id": "2W_2DO3dOpNm"
      },
      "source": [
        "# **En résumé : les 4 étapes du code**\n",
        "\n",
        "\n",
        "---\n",
        "\n",
        "\n",
        "Le code est organisé en 4 étapes :\n",
        "1. Définir le nombre de tirages à simuler.\n",
        "2. Réaliser le tirage de valeurs \"expérimentales\" :\n",
        "3. Calculer, avec chaque jeu de valeurs simulées, la grandeur à déterminer et stocker cette valeur dans une liste.\n",
        "4. Calculer la moyenne et l'écart-type des valeurs de la liste.\n",
        "\n",
        "\n",
        "\n"
      ]
    },
    {
      "cell_type": "code",
      "metadata": {
        "id": "U3NvcHS5O8BM",
        "outputId": "48631cc3-adff-4998-872a-1e06afd7b151",
        "colab": {
          "base_uri": "https://localhost:8080/",
          "height": 0
        }
      },
      "source": [
        "import numpy as np\n",
        "import matplotlib.pyplot as plt\n",
        "\n",
        "N=100000\n",
        "\n",
        "Ccal = [] \n",
        "\n",
        "for k in range(N) :\n",
        "    T1=np.random.uniform(20.1,20.3)\n",
        "    T2=np.random.uniform(47.2,47.4)\n",
        "    Tf=np.random.triangular(30.2,31.2,32.2)\n",
        "    M1i=np.random.uniform(152.5,153.5)\n",
        "    M1f=np.random.uniform(98.5,99.5)\n",
        "    M2i=np.random.uniform(175.5,176.5)\n",
        "    M2f=np.random.uniform(118.5,119.5)\n",
        "    Ccal.append(4.18*((M2i-M2f)*(T2-Tf)/(Tf-T1)+(M1f-M1i)))\n",
        "\n",
        "Ccalm = sum(Ccal)/N         \n",
        "uCcal = np.std(Ccal,ddof=1) \n",
        "\n",
        "print(f'Capacité thermique : {Ccalm} J/K')\n",
        "print(f'Incertitude-type u(Ccal) : {uCcal} J/K')"
      ],
      "execution_count": 46,
      "outputs": [
        {
          "output_type": "stream",
          "text": [
            "Capacité thermique : 123.95503150275724 J/K\n",
            "Incertitude-type u(Ccal) : 22.241021483680992 J/K\n"
          ],
          "name": "stdout"
        }
      ]
    },
    {
      "cell_type": "markdown",
      "metadata": {
        "id": "a5qXzJlieeL3"
      },
      "source": [
        "# **Pour aller plus loin : Génération d'un histogramme**\n",
        "\n",
        "---\n",
        "\n",
        "\n",
        "Les N valeurs calculées de $C_{cal}$ sont rangées par classes de manière à construire un histogramme et ainsi juger plus facilement de la dispersion des résultats.\n",
        "Pour faciliter l'analyse du graphique, une gaussienne :\n",
        " \n",
        "*   centrée sur la valeur moyenne des capacités thermiques du calorimètre\n",
        "*   d'écart-type égal à l'incertitude-type calculée\n",
        "\n",
        "est superposée à l'histogramme.\n"
      ]
    },
    {
      "cell_type": "code",
      "metadata": {
        "id": "pm2DmrTnfns0",
        "outputId": "f3ee6389-c7c8-4bf5-e131-f50082ca992c",
        "colab": {
          "base_uri": "https://localhost:8080/",
          "height": 331
        }
      },
      "source": [
        "#%%# Génération d'histogrammes \n",
        "\n",
        "x = np.linspace(np.min(Ccal),np.max(Ccal),100)\n",
        "Gaussienne = [1/(sqrt(2*np.pi*uCcal**2))*exp(-1/2*((z-Ccalm)/uCcal)**2) for z in x]\n",
        "\n",
        "plt.hist(Ccal, bins='rice', density = True, label = \"Valeurs simulées\")\n",
        "plt.plot(x, Gaussienne, 'k-', label = \"Gaussienne associée\")\n",
        "plt.title(f'Simulation de {N} titrages \\n Ccal = {Ccalm} J/K \\n u(Ccal) = {uCcal} J/K')\n",
        "plt.xlabel('Ccal en J.K$^{-1}$')\n",
        "plt.legend()\n",
        "plt.show()"
      ],
      "execution_count": 47,
      "outputs": [
        {
          "output_type": "display_data",
          "data": {
            "image/png": "[encoded data removed]",
            "text/plain": [
              "<Figure size 432x288 with 1 Axes>"
            ]
          },
          "metadata": {
            "tags": [],
            "needs_background": "light"
          }
        }
      ]
    }
  ]
}